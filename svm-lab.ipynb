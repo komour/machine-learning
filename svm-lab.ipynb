{
 "cells": [
  {
   "cell_type": "code",
   "execution_count": 2,
   "metadata": {},
   "outputs": [],
   "source": [
    "import pandas as pd\n",
    "\n",
    "input_data_chips = pd.read_csv(\"resources/Boost/chips.csv\")\n",
    "chips_xs = input_data_chips[input_data_chips.columns[:-1]].to_numpy()\n",
    "chips_ys = input_data_chips[input_data_chips.columns[-1]].to_numpy()\n",
    "chips_ys = list(map(lambda c: 1 if c == 'P' else -1, chips_ys))\n",
    "\n",
    "input_data_geyser = pd.read_csv(\"resources/Boost/geyser.csv\")\n",
    "geyser_xs = input_data_geyser[input_data_geyser.columns[:-1]].to_numpy()\n",
    "geyser_ys = input_data_geyser[input_data_geyser.columns[-1]].to_numpy()\n",
    "geyser_ys = list(map(lambda c: 1 if c == 'P' else -1, geyser_ys))"
   ]
  },
  {
   "cell_type": "code",
   "execution_count": null,
   "metadata": {},
   "outputs": [],
   "source": []
  }
 ],
 "metadata": {
  "kernelspec": {
   "display_name": "Python 3",
   "language": "python",
   "name": "python3"
  },
  "language_info": {
   "codemirror_mode": {
    "name": "ipython",
    "version": 3
   },
   "file_extension": ".py",
   "mimetype": "text/x-python",
   "name": "python",
   "nbconvert_exporter": "python",
   "pygments_lexer": "ipython3",
   "version": "3.8.5"
  }
 },
 "nbformat": 4,
 "nbformat_minor": 4
}

{
 "cells": [
  {
   "cell_type": "markdown",
   "metadata": {
    "id": "7lrLnjXm4wQi"
   },
   "source": [
    "from google.colab import drive\n",
    "drive.mount('/content/gdrive')[Текст ссылки](https://)"
   ]
  },
  {
   "cell_type": "code",
   "execution_count": 2,
   "metadata": {
    "colab": {
     "base_uri": "https://localhost:8080/"
    },
    "id": "_sbJwy8UTogQ",
    "outputId": "39ce4d68-c9e3-409c-a80d-d5a505f0978f"
   },
   "outputs": [
    {
     "name": "stdout",
     "output_type": "stream",
     "text": [
      "Mounted at /content/gdrive\n"
     ]
    }
   ],
   "source": [
    "from google.colab import drive\n",
    "drive.mount('/content/gdrive')"
   ]
  },
  {
   "cell_type": "code",
   "execution_count": 2,
   "metadata": {
    "id": "AkfY_c1cT5RQ"
   },
   "outputs": [
    {
     "data": {
      "text/plain": [
       "['part3',\n",
       " 'part4',\n",
       " 'part5',\n",
       " 'part2',\n",
       " 'part10',\n",
       " 'part9',\n",
       " 'part7',\n",
       " 'part1',\n",
       " 'part6',\n",
       " 'part8']"
      ]
     },
     "execution_count": 2,
     "metadata": {},
     "output_type": "execute_result"
    }
   ],
   "source": [
    "from os import listdir\n",
    "\n",
    "data_directory = \"resources/bayes-lab/messages/\"\n",
    "listdir(data_directory)"
   ]
  },
  {
   "cell_type": "code",
   "execution_count": 3,
   "metadata": {
    "id": "qSi8N8cddiW6"
   },
   "outputs": [],
   "source": [
    "class Message:\n",
    "    def __init__(self, data, is_legit):\n",
    "        self.data = data\n",
    "        self.is_legit = is_legit\n",
    "\n",
    "    def __str__(self):\n",
    "        return \"legit: \" + str(self.is_legit) + \", data: \" + str(self.data)\n",
    "\n",
    "    def __repr__(self):\n",
    "        return \"legit: \" + str(self.is_legit) + \", data: \" + str(self.data)"
   ]
  },
  {
   "cell_type": "code",
   "execution_count": 9,
   "metadata": {
    "id": "bi8oJSfqVnpX"
   },
   "outputs": [],
   "source": [
    "from os.path import join\n",
    "from pathlib import Path\n",
    "\n",
    "data = []\n",
    "for subdir in sorted(listdir(data_directory), key=lambda x: int(x[4:])):\n",
    "    cur_dir = join(data_directory, subdir)\n",
    "    dir_data = []\n",
    "    for file_name in listdir(cur_dir):\n",
    "        is_legit = 'legit' in file_name\n",
    "        cur_file = Path(join(cur_dir, file_name))\n",
    "        lines = cur_file.read_text().split('\\n')\n",
    "        lines[0] = lines[0][9:]\n",
    "        file_data = list(lines[0].split()) + list(lines[2].split())\n",
    "        dir_data.append(Message(file_data, is_legit))\n",
    "    data.append(dir_data)"
   ]
  },
  {
   "cell_type": "code",
   "execution_count": 10,
   "metadata": {
    "id": "_ZpAQZVUDBU9"
   },
   "outputs": [],
   "source": [
    "import math\n",
    "\n",
    "def naive_bayes_classifier(lambdas, alpha, train_input, test_input, class_amount=2):\n",
    "    Q_dim = 2\n",
    "    eps = 1e-5\n",
    "    all_words = set()\n",
    "    lmbd = lambdas\n",
    "    n_train = len(train_input)\n",
    "    train_classes = []\n",
    "    classes = [i for i in range(class_amount)]\n",
    "    train_data = [set() for _ in range(n_train)]\n",
    "    class_amount_with_word = {}\n",
    "    amount_of_class = [0 for _ in classes]\n",
    "\n",
    "    # read train data\n",
    "    for i in range(n_train):\n",
    "        # row = list(train_input[i].split())\n",
    "        row = train_input[i]\n",
    "        cur_class = int(row.pop(0)) - 1\n",
    "        train_classes.append(cur_class)\n",
    "        amount_of_class[cur_class] += 1\n",
    "        # row.pop(0)\n",
    "        for word in row:\n",
    "            train_data[i].add(word)\n",
    "            all_words.add(word)\n",
    "\n",
    "    # read test data\n",
    "    n_test = len(test_input)\n",
    "    test_data = [set() for _ in range(n_test)]\n",
    "    for i in range(n_test):\n",
    "        # row = list(test_input[i].split())\n",
    "        row = test_input[i]\n",
    "        # row.pop(0)\n",
    "        for word in row:\n",
    "            test_data[i].add(word)\n",
    "\n",
    "    # count up amount of classes the word refers to\n",
    "    for i in range(n_train):\n",
    "        words_set = train_data[i]\n",
    "        current_class = train_classes[i]\n",
    "        for word in words_set:\n",
    "            if word in class_amount_with_word:\n",
    "                class_amount_with_word[word][current_class] += 1\n",
    "            else:\n",
    "                class_amount_with_word[word] = [0 for _ in classes]\n",
    "                class_amount_with_word[word][current_class] += 1\n",
    "\n",
    "    # count up P(W_i|C_y)\n",
    "    prob_w_c = [{} for _ in classes]\n",
    "    for word in class_amount_with_word.keys():\n",
    "        for c in classes:\n",
    "            count = class_amount_with_word[word][c]\n",
    "            prob_w_c[c][word] = float(count + alpha) / float(amount_of_class[c] + alpha * Q_dim)\n",
    "\n",
    "    # count up P(C)\n",
    "    prob_c = []\n",
    "    for c in classes:\n",
    "        prob_c.append(amount_of_class[c] / n_train)\n",
    "        # print(prob_c[c])\n",
    "\n",
    "    # print answer for every query X\n",
    "    res = []\n",
    "    for i in range(n_test):\n",
    "        class_score = [0.0 for _ in classes]\n",
    "        for c in classes:\n",
    "            if amount_of_class[c] != 0:\n",
    "                # replace the probabilities product by the sum of the logarithms to avoid too small numbers\n",
    "                # which would result from the probabilities product\n",
    "                cur_score = math.log(lmbd[c]) + math.log(prob_c[c])\n",
    "                for word in all_words:\n",
    "                    if word in test_data[i]:\n",
    "                        cur_score += math.log(prob_w_c[c][word])\n",
    "                    else:\n",
    "                        cur_score += math.log(1 - prob_w_c[c][word])\n",
    "                class_score[c] = cur_score\n",
    "        max_log = max(class_score)\n",
    "        sum_score = 0.0\n",
    "        for c in range(len(class_score)):\n",
    "            if abs(class_score[c]) > eps:\n",
    "                class_score[c] = math.exp(class_score[c] - max_log)\n",
    "                sum_score += class_score[c]\n",
    "            else:\n",
    "                class_score[c] = 0\n",
    "        ans = []\n",
    "        for c in classes:\n",
    "            # print(class_score[c] / sum_score, end=' ')\n",
    "            ans.append(class_score[c] / sum_score)\n",
    "        res.append(ans)\n",
    "    return res"
   ]
  },
  {
   "cell_type": "code",
   "execution_count": 11,
   "metadata": {
    "id": "NS0O7fmeE2K5"
   },
   "outputs": [],
   "source": [
    "def construct_train_data(input: [Message]):\n",
    "  train_data = []\n",
    "  for msg in input:\n",
    "    if msg.is_legit:\n",
    "      c = 1\n",
    "    else:\n",
    "      c = 2\n",
    "    c = str(c)\n",
    "    train_data.append([c] + msg.data)\n",
    "  return train_data"
   ]
  },
  {
   "cell_type": "code",
   "execution_count": 12,
   "metadata": {
    "id": "Jy5_0NkWNrtK"
   },
   "outputs": [],
   "source": [
    "def message_to_n_gram(msg: Message, n: int):\n",
    "    n_grammed_data = []\n",
    "    for i in range(0, len(msg.data), n):\n",
    "        cur_word = ''\n",
    "        if i + n - 1 >= len(msg.data):\n",
    "            for j in range(0, len(msg.data) - i):\n",
    "                cur_word += msg.data[i + j]\n",
    "        else:\n",
    "            for j in range(n):\n",
    "                cur_word += msg.data[i + j]\n",
    "        if cur_word != '':\n",
    "            n_grammed_data.append(cur_word)\n",
    "    return Message(n_grammed_data, msg.is_legit)\n"
   ]
  },
  {
   "cell_type": "code",
   "execution_count": 13,
   "metadata": {
    "id": "4lVLL0OqGGam"
   },
   "outputs": [],
   "source": [
    "def construct_n_gram(input: [Message], n: int):\n",
    "  n_grammed_data = []\n",
    "  for msg in input:\n",
    "    n_grammed_msg = message_to_n_gram(msg, n)\n",
    "    n_grammed_data.append(n_grammed_msg)\n",
    "  return n_grammed_data"
   ]
  },
  {
   "cell_type": "code",
   "execution_count": 14,
   "metadata": {
    "id": "MQ6fUU6pfdJZ"
   },
   "outputs": [],
   "source": [
    "def get_k_fold_train_data(data: [[str]], k):\n",
    "    res = []\n",
    "    for i in range(len(data)):\n",
    "        if i != k:\n",
    "            res = res + data[i]\n",
    "    return res"
   ]
  },
  {
   "cell_type": "code",
   "execution_count": 15,
   "metadata": {
    "id": "1oQSXeGteoIO"
   },
   "outputs": [],
   "source": [
    "def count_accuracy(expected, predicted):\n",
    "    right_amount = 0\n",
    "    assert (len(expected) == len(predicted))\n",
    "    for i in range(len(expected)):\n",
    "        if expected[i] == predicted[i]:\n",
    "            right_amount += 1\n",
    "    return right_amount / len(expected)"
   ]
  },
  {
   "cell_type": "code",
   "execution_count": 16,
   "metadata": {
    "id": "2Avb8t-jpI0x"
   },
   "outputs": [],
   "source": [
    "def count_accuracy_only_legit(expected, predicted):\n",
    "    right_amount = 0\n",
    "    amount = 0\n",
    "    assert (len(expected) == len(predicted))\n",
    "    for i in range(len(expected)):\n",
    "        if expected[i] == 1:\n",
    "            amount += 1\n",
    "            if expected[i] == predicted[i]:\n",
    "                right_amount += 1\n",
    "    return right_amount / amount"
   ]
  },
  {
   "cell_type": "code",
   "execution_count": 17,
   "metadata": {
    "id": "yC4MEpRmswdd"
   },
   "outputs": [],
   "source": [
    "def check_legit(expected, predicted):\n",
    "    # print(len(expected), len(predicted))\n",
    "    for i in range(len(expected)):\n",
    "        if expected[i] == 1 and predicted[i] == 2:\n",
    "            return False\n",
    "    return True"
   ]
  },
  {
   "cell_type": "code",
   "execution_count": 18,
   "metadata": {
    "id": "7nmGEH_eXzkj"
   },
   "outputs": [],
   "source": [
    "def execute(alpha, train_data: [Message], test_data: [Message], n, ll, ls):\n",
    "    train = construct_train_data(construct_n_gram(train_data, n))\n",
    "    test = [msg.data for msg in construct_n_gram(test_data, n)]\n",
    "    lambdas = [ll, ls]\n",
    "    res = naive_bayes_classifier(lambdas, alpha, train, test)\n",
    "    class_list_predicted = []\n",
    "    class_list_expected = []\n",
    "    for row in res:\n",
    "        if row[0] >= row[1]:\n",
    "            class_list_predicted.append(1)\n",
    "        else:\n",
    "            class_list_predicted.append(2)\n",
    "    for msg in test_data:\n",
    "        if msg.is_legit:\n",
    "            class_list_expected.append(1)\n",
    "        else:\n",
    "            class_list_expected.append(2)\n",
    "    return class_list_expected, class_list_predicted"
   ]
  },
  {
   "cell_type": "code",
   "execution_count": 205,
   "metadata": {
    "colab": {
     "base_uri": "https://localhost:8080/"
    },
    "id": "q6q1pxUGPczJ",
    "outputId": "b63086e4-501a-49a8-a4ce-64c065f2df36"
   },
   "outputs": [
    {
     "name": "stdout",
     "output_type": "stream",
     "text": [
      "n = 1 , alpha = 1e-12 , accuracy = 0.9715596330275229\n",
      "n = 1 , alpha = 1e-10 , accuracy = 0.9715596330275229\n",
      "n = 1 , alpha = 1e-08 , accuracy = 0.9706422018348624\n",
      "n = 1 , alpha = 1e-06 , accuracy = 0.9678899082568808\n",
      "n = 1 , alpha = 0.0001 , accuracy = 0.9660550458715598\n",
      "n = 1 , alpha = 0.01 , accuracy = 0.9587155963302753\n",
      "n = 1 , alpha = 1.0 , accuracy = 0.9155963302752295\n",
      "n = 1 , alpha = 10.0 , accuracy = 0.7027522935779816\n",
      "n = 2 , alpha = 1e-12 , accuracy = 0.9724770642201837\n",
      "n = 2 , alpha = 1e-10 , accuracy = 0.9697247706422019\n",
      "n = 2 , alpha = 1e-08 , accuracy = 0.9688073394495413\n",
      "n = 2 , alpha = 1e-06 , accuracy = 0.9605504587155964\n",
      "n = 2 , alpha = 0.0001 , accuracy = 0.9504587155963303\n",
      "n = 2 , alpha = 0.01 , accuracy = 0.9192660550458717\n",
      "n = 2 , alpha = 1.0 , accuracy = 0.7596330275229357\n",
      "n = 2 , alpha = 10.0 , accuracy = 0.5844036697247706\n",
      "n = 3 , alpha = 1e-12 , accuracy = 0.9587155963302753\n",
      "n = 3 , alpha = 1e-10 , accuracy = 0.9467889908256879\n",
      "n = 3 , alpha = 1e-08 , accuracy = 0.9412844036697248\n",
      "n = 3 , alpha = 1e-06 , accuracy = 0.9311926605504587\n",
      "n = 3 , alpha = 0.0001 , accuracy = 0.9055045871559633\n",
      "n = 3 , alpha = 0.01 , accuracy = 0.8559633027522935\n",
      "n = 3 , alpha = 1.0 , accuracy = 0.653211009174312\n",
      "n = 3 , alpha = 10.0 , accuracy = 0.5605504587155963\n"
     ]
    }
   ],
   "source": [
    "n_set = [1, 2, 3]\n",
    "alpha_set = [1e-12, 1e-10, 1e-8, 1e-6, 1e-4, 1e-2, 1.0, 10.0]\n",
    "l_spam = 1\n",
    "l_legit = 1\n",
    "for n in n_set:\n",
    "    for alpha in alpha_set:\n",
    "        acc = []\n",
    "        for k in range(10):\n",
    "            expected, predicted = execute(alpha, get_k_fold_train_data(data, k), data[k], n, l_legit, l_spam)\n",
    "            acc.append(count_accuracy(expected, predicted))\n",
    "        print(\"n =\", n, \", alpha =\", alpha, \", accuracy =\", sum(acc) / len(acc))\n"
   ]
  },
  {
   "cell_type": "code",
   "execution_count": 28,
   "metadata": {
    "id": "Tx334CCpwRwI"
   },
   "outputs": [
    {
     "name": "stdout",
     "output_type": "stream",
     "text": [
      "False\n",
      "True\n"
     ]
    }
   ],
   "source": [
    "def check_legit_k_fold(l_legit):\n",
    "    n = 1\n",
    "    alpha = 1e-10\n",
    "    l_spam = 1\n",
    "    for k in range(10):\n",
    "        expected, predicted = execute(alpha, get_k_fold_train_data(data, k), data[k], n, l_legit, l_spam)\n",
    "        if not check_legit(expected, predicted):\n",
    "            return False\n",
    "    return True\n",
    "\n",
    "# l_legit_set = [1e44, 1e45] # alpha = 1e-6\n",
    "l_legit_set = [1e80, 1e81] # alpha = 1e-10\n",
    "for l_legit in l_legit_set:\n",
    "    print(check_legit_k_fold(l_legit))"
   ]
  },
  {
   "cell_type": "code",
   "execution_count": 19,
   "metadata": {
    "id": "WDN_srJPR6Tr"
   },
   "outputs": [],
   "source": [
    "l_spam = 1\n",
    "l_legit = 1\n",
    "n = 2\n",
    "alpha = 1e-12\n",
    "all_expected = []\n",
    "all_predicted = []\n",
    "for k in range(10):\n",
    "    expected, predicted = execute(alpha, get_k_fold_train_data(data, k), data[k], n, l_legit, l_spam)\n",
    "    all_expected = all_expected + expected\n",
    "    all_predicted = all_predicted + predicted\n"
   ]
  },
  {
   "cell_type": "code",
   "execution_count": 20,
   "metadata": {
    "colab": {
     "base_uri": "https://localhost:8080/",
     "height": 296
    },
    "id": "viXJOEMtoRNf",
    "outputId": "336009d7-d4d0-450d-cec1-0bd21cec5014"
   },
   "outputs": [
    {
     "data": {
      "image/png": "[encoded data removed]",
      "text/plain": [
       "<Figure size 432x288 with 1 Axes>"
      ]
     },
     "metadata": {
      "needs_background": "light"
     },
     "output_type": "display_data"
    },
    {
     "name": "stdout",
     "output_type": "stream",
     "text": [
      "0.970303961748634\n"
     ]
    }
   ],
   "source": [
    "from sklearn.metrics import roc_curve, auc\n",
    "import matplotlib.pyplot as plt\n",
    "\n",
    "expected = list(map(lambda x: int(x) - 1, all_expected))\n",
    "predicted = list(map(lambda x: int(x) - 1, all_predicted))\n",
    "assert(len(expected) == len(predicted))\n",
    "fpr, tpr, threshold = roc_curve(expected, predicted)\n",
    "plt.plot(fpr, tpr)\n",
    "plt.plot([0, 1], [0, 1], 'r--')\n",
    "plt.ylabel('TPR')\n",
    "plt.xlabel('FPR')\n",
    "plt.show()\n",
    "print(auc(fpr, tpr))"
   ]
  },
  {
   "cell_type": "code",
   "execution_count": 29,
   "metadata": {
    "id": "RovWq_rwkoXf"
   },
   "outputs": [
    {
     "name": "stdout",
     "output_type": "stream",
     "text": [
      "0.9724770642201837\n",
      "0.9678899082568808\n",
      "0.9633027522935782\n",
      "0.9559633027522937\n",
      "0.9477064220183486\n",
      "0.9449541284403671\n",
      "0.9348623853211008\n",
      "0.9256880733944955\n",
      "0.9165137614678898\n"
     ]
    }
   ],
   "source": [
    "l_legit_set = []\n",
    "for l in [10 ** i for i in range(0, 81, 10)]:\n",
    "    l_legit_set.append(l)\n",
    "ys = []\n",
    "\n",
    "for l_legit in l_legit_set:\n",
    "    acc = []\n",
    "    for k in range(10):\n",
    "        expected, predicted = execute(alpha, get_k_fold_train_data(data, k), data[k], n, l_legit, l_spam)\n",
    "        acc.append(count_accuracy(expected, predicted))\n",
    "    cur_acc = sum(acc) / len(acc)\n",
    "    ys.append(cur_acc)\n",
    "    print(cur_acc)"
   ]
  },
  {
   "cell_type": "code",
   "execution_count": 30,
   "metadata": {
    "id": "otp4L90UymD0"
   },
   "outputs": [
    {
     "data": {
      "image/png": "[encoded data removed]",
      "text/plain": [
       "<Figure size 432x288 with 1 Axes>"
      ]
     },
     "metadata": {
      "needs_background": "light"
     },
     "output_type": "display_data"
    }
   ],
   "source": [
    "plt.xlabel('l_legit')\n",
    "plt.ylabel('accuracy')\n",
    "plt.plot(l_legit_set, ys)\n",
    "plt.show()"
   ]
  }
 ],
 "metadata": {
  "colab": {
   "name": "naive-bayesian-classifier-lab.ipynb",
   "provenance": []
  },
  "kernelspec": {
   "display_name": "Python 3",
   "language": "python",
   "name": "python3"
  },
  "language_info": {
   "codemirror_mode": {
    "name": "ipython",
    "version": 3
   },
   "file_extension": ".py",
   "mimetype": "text/x-python",
   "name": "python",
   "nbconvert_exporter": "python",
   "pygments_lexer": "ipython3",
   "version": "3.8.5"
  }
 },
 "nbformat": 4,
 "nbformat_minor": 1
}
